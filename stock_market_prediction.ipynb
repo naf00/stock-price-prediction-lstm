{
 "cells": [
  {
   "cell_type": "markdown",
   "id": "89b0e590",
   "metadata": {},
   "source": [
    "# Intro\n",
    "This notebook is developed to predict the stock market closing price\n",
    "for a certain company, e.g. Apple Inc., based on Yahoo Finance data, and using a recurrent neural network \n",
    "(RNN) variation called Long Short Term Memory (LSTM).\n",
    "\n",
    "Inspiration source - code developed following: https://www.youtube.com/watch?v=QIUxPv5PJOY"
   ]
  },
  {
   "cell_type": "markdown",
   "id": "47493e63",
   "metadata": {},
   "source": [
    "# Install and import libraries"
   ]
  },
  {
   "cell_type": "code",
   "execution_count": 2,
   "id": "fcf22850",
   "metadata": {},
   "outputs": [],
   "source": [
    "#pip install yfinance\n",
    "# Had to install this version of numpy for compatibility purposes\n",
    "# pip install \"numpy>=1.16.5,<1.23.0\""
   ]
  },
  {
   "cell_type": "code",
   "execution_count": 2,
   "id": "38b687c0",
   "metadata": {},
   "outputs": [],
   "source": [
    "# Import the libraries\n",
    "import math\n",
    "import pandas as pd\n",
    "import pandas_datareader as web\n",
    "import numpy as np\n",
    "import matplotlib.pyplot as plt\n",
    "from sklearn.preprocessing import MinMaxScaler\n",
    "from keras.models import Sequential\n",
    "from keras.layers import Dense, LSTM\n",
    "plt.style.use('fivethirtyeight')\n",
    "import yfinance as yf"
   ]
  },
  {
   "cell_type": "markdown",
   "id": "7fd28fb6",
   "metadata": {},
   "source": [
    "# Data import"
   ]
  },
  {
   "cell_type": "code",
   "execution_count": 10,
   "id": "ee87b3b4",
   "metadata": {},
   "outputs": [
    {
     "name": "stdout",
     "output_type": "stream",
     "text": [
      "[*********************100%***********************]  1 of 1 completed\n",
      "<class 'pandas.core.frame.DataFrame'>\n",
      "DatetimeIndex: 2518 entries, 2013-01-02 to 2022-12-30\n",
      "Data columns (total 6 columns):\n",
      " #   Column     Non-Null Count  Dtype  \n",
      "---  ------     --------------  -----  \n",
      " 0   Open       2518 non-null   float64\n",
      " 1   High       2518 non-null   float64\n",
      " 2   Low        2518 non-null   float64\n",
      " 3   Close      2518 non-null   float64\n",
      " 4   Adj Close  2518 non-null   float64\n",
      " 5   Volume     2518 non-null   int64  \n",
      "dtypes: float64(5), int64(1)\n",
      "memory usage: 137.7 KB\n"
     ]
    },
    {
     "data": {
      "text/html": [
       "<div>\n",
       "<style scoped>\n",
       "    .dataframe tbody tr th:only-of-type {\n",
       "        vertical-align: middle;\n",
       "    }\n",
       "\n",
       "    .dataframe tbody tr th {\n",
       "        vertical-align: top;\n",
       "    }\n",
       "\n",
       "    .dataframe thead th {\n",
       "        text-align: right;\n",
       "    }\n",
       "</style>\n",
       "<table border=\"1\" class=\"dataframe\">\n",
       "  <thead>\n",
       "    <tr style=\"text-align: right;\">\n",
       "      <th></th>\n",
       "      <th>Open</th>\n",
       "      <th>High</th>\n",
       "      <th>Low</th>\n",
       "      <th>Close</th>\n",
       "      <th>Adj Close</th>\n",
       "      <th>Volume</th>\n",
       "    </tr>\n",
       "    <tr>\n",
       "      <th>Date</th>\n",
       "      <th></th>\n",
       "      <th></th>\n",
       "      <th></th>\n",
       "      <th></th>\n",
       "      <th></th>\n",
       "      <th></th>\n",
       "    </tr>\n",
       "  </thead>\n",
       "  <tbody>\n",
       "    <tr>\n",
       "      <th>2022-12-23</th>\n",
       "      <td>130.919998</td>\n",
       "      <td>132.419998</td>\n",
       "      <td>129.639999</td>\n",
       "      <td>131.860001</td>\n",
       "      <td>131.860001</td>\n",
       "      <td>63814900</td>\n",
       "    </tr>\n",
       "    <tr>\n",
       "      <th>2022-12-27</th>\n",
       "      <td>131.380005</td>\n",
       "      <td>131.410004</td>\n",
       "      <td>128.720001</td>\n",
       "      <td>130.029999</td>\n",
       "      <td>130.029999</td>\n",
       "      <td>69007800</td>\n",
       "    </tr>\n",
       "    <tr>\n",
       "      <th>2022-12-28</th>\n",
       "      <td>129.669998</td>\n",
       "      <td>131.029999</td>\n",
       "      <td>125.870003</td>\n",
       "      <td>126.040001</td>\n",
       "      <td>126.040001</td>\n",
       "      <td>85438400</td>\n",
       "    </tr>\n",
       "    <tr>\n",
       "      <th>2022-12-29</th>\n",
       "      <td>127.989998</td>\n",
       "      <td>130.479996</td>\n",
       "      <td>127.730003</td>\n",
       "      <td>129.610001</td>\n",
       "      <td>129.610001</td>\n",
       "      <td>75703700</td>\n",
       "    </tr>\n",
       "    <tr>\n",
       "      <th>2022-12-30</th>\n",
       "      <td>128.410004</td>\n",
       "      <td>129.949997</td>\n",
       "      <td>127.430000</td>\n",
       "      <td>129.929993</td>\n",
       "      <td>129.929993</td>\n",
       "      <td>76960600</td>\n",
       "    </tr>\n",
       "  </tbody>\n",
       "</table>\n",
       "</div>"
      ],
      "text/plain": [
       "                  Open        High         Low       Close   Adj Close  \\\n",
       "Date                                                                     \n",
       "2022-12-23  130.919998  132.419998  129.639999  131.860001  131.860001   \n",
       "2022-12-27  131.380005  131.410004  128.720001  130.029999  130.029999   \n",
       "2022-12-28  129.669998  131.029999  125.870003  126.040001  126.040001   \n",
       "2022-12-29  127.989998  130.479996  127.730003  129.610001  129.610001   \n",
       "2022-12-30  128.410004  129.949997  127.430000  129.929993  129.929993   \n",
       "\n",
       "              Volume  \n",
       "Date                  \n",
       "2022-12-23  63814900  \n",
       "2022-12-27  69007800  \n",
       "2022-12-28  85438400  \n",
       "2022-12-29  75703700  \n",
       "2022-12-30  76960600  "
      ]
     },
     "execution_count": 10,
     "metadata": {},
     "output_type": "execute_result"
    }
   ],
   "source": [
    "# Get the data\n",
    "df = yf.download(\"AAPL\", start=\"2013-01-01\", end=\"2023-01-01\")\n",
    "\n",
    "df.info()\n",
    "df.tail()"
   ]
  },
  {
   "cell_type": "code",
   "execution_count": 11,
   "id": "1cfa9b38",
   "metadata": {},
   "outputs": [
    {
     "data": {
      "text/plain": [
       "(2768, 6)"
      ]
     },
     "execution_count": 11,
     "metadata": {},
     "output_type": "execute_result"
    }
   ],
   "source": [
    "# Get the data set dimension\n",
    "df.shape"
   ]
  },
  {
   "cell_type": "code",
   "execution_count": 12,
   "id": "2ac99fb9",
   "metadata": {},
   "outputs": [
    {
     "data": {
      "image/png": "[encoded data removed]",
      "text/plain": [
       "<Figure size 1152x576 with 1 Axes>"
      ]
     },
     "metadata": {},
     "output_type": "display_data"
    }
   ],
   "source": [
    "# Plot the stock closing price over time\n",
    "plt.figure(figsize=(16,8))\n",
    "plt.title('Close Price History')\n",
    "plt.plot(df['Close'])\n",
    "plt.xlabel('Date', fontsize=18)\n",
    "plt.ylabel('Close Price USD ($)', fontsize=18)\n",
    "plt.show()\n",
    "\n"
   ]
  },
  {
   "cell_type": "markdown",
   "id": "de420ab9",
   "metadata": {},
   "source": [
    "# Training "
   ]
  },
  {
   "cell_type": "code",
   "execution_count": 20,
   "id": "71b37c15",
   "metadata": {},
   "outputs": [
    {
     "name": "stdout",
     "output_type": "stream",
     "text": [
      "training_data_len: 2015\n"
     ]
    },
    {
     "data": {
      "text/html": [
       "<div>\n",
       "<style scoped>\n",
       "    .dataframe tbody tr th:only-of-type {\n",
       "        vertical-align: middle;\n",
       "    }\n",
       "\n",
       "    .dataframe tbody tr th {\n",
       "        vertical-align: top;\n",
       "    }\n",
       "\n",
       "    .dataframe thead th {\n",
       "        text-align: right;\n",
       "    }\n",
       "</style>\n",
       "<table border=\"1\" class=\"dataframe\">\n",
       "  <thead>\n",
       "    <tr style=\"text-align: right;\">\n",
       "      <th></th>\n",
       "      <th>Close</th>\n",
       "    </tr>\n",
       "    <tr>\n",
       "      <th>Date</th>\n",
       "      <th></th>\n",
       "    </tr>\n",
       "  </thead>\n",
       "  <tbody>\n",
       "    <tr>\n",
       "      <th>2013-01-02</th>\n",
       "      <td>19.608213</td>\n",
       "    </tr>\n",
       "    <tr>\n",
       "      <th>2013-01-03</th>\n",
       "      <td>19.360714</td>\n",
       "    </tr>\n",
       "    <tr>\n",
       "      <th>2013-01-04</th>\n",
       "      <td>18.821428</td>\n",
       "    </tr>\n",
       "    <tr>\n",
       "      <th>2013-01-07</th>\n",
       "      <td>18.710714</td>\n",
       "    </tr>\n",
       "    <tr>\n",
       "      <th>2013-01-08</th>\n",
       "      <td>18.761070</td>\n",
       "    </tr>\n",
       "    <tr>\n",
       "      <th>...</th>\n",
       "      <td>...</td>\n",
       "    </tr>\n",
       "    <tr>\n",
       "      <th>2022-12-23</th>\n",
       "      <td>131.860001</td>\n",
       "    </tr>\n",
       "    <tr>\n",
       "      <th>2022-12-27</th>\n",
       "      <td>130.029999</td>\n",
       "    </tr>\n",
       "    <tr>\n",
       "      <th>2022-12-28</th>\n",
       "      <td>126.040001</td>\n",
       "    </tr>\n",
       "    <tr>\n",
       "      <th>2022-12-29</th>\n",
       "      <td>129.610001</td>\n",
       "    </tr>\n",
       "    <tr>\n",
       "      <th>2022-12-30</th>\n",
       "      <td>129.929993</td>\n",
       "    </tr>\n",
       "  </tbody>\n",
       "</table>\n",
       "<p>2518 rows × 1 columns</p>\n",
       "</div>"
      ],
      "text/plain": [
       "                 Close\n",
       "Date                  \n",
       "2013-01-02   19.608213\n",
       "2013-01-03   19.360714\n",
       "2013-01-04   18.821428\n",
       "2013-01-07   18.710714\n",
       "2013-01-08   18.761070\n",
       "...                ...\n",
       "2022-12-23  131.860001\n",
       "2022-12-27  130.029999\n",
       "2022-12-28  126.040001\n",
       "2022-12-29  129.610001\n",
       "2022-12-30  129.929993\n",
       "\n",
       "[2518 rows x 1 columns]"
      ]
     },
     "execution_count": 20,
     "metadata": {},
     "output_type": "execute_result"
    }
   ],
   "source": [
    "# Keep only the 'Close' column of the dataframe\n",
    "dataset = df[['Close']]\n",
    "\n",
    "# Convert the dataframe to a numpy array\n",
    "# dataset = data.values\n",
    "\n",
    "# Get X% of rows (e.g. 80%) to train the model on\n",
    "training_data_len = math.ceil(len(dataset) * 0.8)\n",
    "print(\"training_data_len:\", training_data_len)\n",
    "\n",
    "dataset"
   ]
  },
  {
   "cell_type": "code",
   "execution_count": 21,
   "id": "3a9818c6",
   "metadata": {},
   "outputs": [
    {
     "data": {
      "text/plain": [
       "array([[0.03368219],\n",
       "       [0.03220953],\n",
       "       [0.02900069],\n",
       "       ...,\n",
       "       [0.66696916],\n",
       "       [0.68821126],\n",
       "       [0.69011526]])"
      ]
     },
     "execution_count": 21,
     "metadata": {},
     "output_type": "execute_result"
    }
   ],
   "source": [
    "# Scale the data\n",
    "scaler = MinMaxScaler(feature_range=(0,1))\n",
    "scaled_data = scaler.fit_transform(dataset)\n",
    "\n",
    "scaled_data"
   ]
  },
  {
   "cell_type": "code",
   "execution_count": 27,
   "id": "c5f81ae3",
   "metadata": {},
   "outputs": [
    {
     "name": "stdout",
     "output_type": "stream",
     "text": [
      "[array([0.03368219, 0.03220953, 0.02900069, 0.02834192, 0.02864155,\n",
      "       0.02689688, 0.02825905, 0.02757691, 0.02363492, 0.02027095,\n",
      "       0.02455719, 0.02383254, 0.02326303, 0.02427668, 0.02624024,\n",
      "       0.01274399, 0.01048717, 0.0126016 , 0.01439515, 0.01408915,\n",
      "       0.01380439, 0.013407  , 0.01100568, 0.01430378, 0.01419965,\n",
      "       0.01650959, 0.01794613, 0.01899803, 0.01644159, 0.01625246,\n",
      "       0.01616321, 0.01479679, 0.01476066, 0.01239335, 0.01180045,\n",
      "       0.01280986, 0.01110769, 0.01241885, 0.01148382, 0.01081018,\n",
      "       0.00848749, 0.00627318, 0.00862986, 0.00746533, 0.00851086,\n",
      "       0.00875312, 0.01006003, 0.00805397, 0.00803697, 0.00891888,\n",
      "       0.01129044, 0.01385327, 0.01359189, 0.01307974, 0.01321787,\n",
      "       0.01516868, 0.01552356, 0.01500505, 0.01307974, 0.01107794])]\n",
      "[0.008155979080942843]\n",
      "\n"
     ]
    }
   ],
   "source": [
    "# Create the training data set\n",
    "# Create the scaled training data set\n",
    "train_data = scaled_data[0:training_data_len, :]\n",
    "# Split the data into x_train and y_train data sets\n",
    "x_train = []\n",
    "y_train = []\n",
    "# lookback window (time-steps)\n",
    "window = 60\n",
    "\n",
    "for i in range(window, len(train_data)):\n",
    "    x_train.append(train_data[i-window:i, 0])\n",
    "    y_train.append(train_data[i, 0])\n",
    "    if i<=window: # change it to window +1 to print the next iteration\n",
    "        print(x_train)\n",
    "        print(y_train)\n",
    "        print()"
   ]
  },
  {
   "cell_type": "code",
   "execution_count": 28,
   "id": "013524cc",
   "metadata": {},
   "outputs": [],
   "source": [
    "# Convert x_train and y_train to numpy arrays\n",
    "x_train, y_train = np.array(x_train), np.array(y_train)"
   ]
  },
  {
   "cell_type": "code",
   "execution_count": 29,
   "id": "52d94606",
   "metadata": {},
   "outputs": [
    {
     "data": {
      "text/plain": [
       "(1955, 60, 1)"
      ]
     },
     "execution_count": 29,
     "metadata": {},
     "output_type": "execute_result"
    }
   ],
   "source": [
    "# Reshape the data to be compatibe for LSTM requiring data to be 3-dim in the form of number of samples, time steps and features \n",
    "x_train = np.reshape(x_train, (x_train.shape[0], x_train.shape[1], 1)) # '1' at the end is the number of features\n",
    "x_train.shape"
   ]
  },
  {
   "cell_type": "code",
   "execution_count": 30,
   "id": "f979ea8e",
   "metadata": {},
   "outputs": [],
   "source": [
    "# Build the LSTM model\n",
    "model = Sequential()\n",
    "model.add(LSTM(50, return_sequences=True, input_shape=(x_train.shape[1], 1))) # '1' at the end is the number of features\n",
    "model.add(LSTM(50, return_sequences=False))\n",
    "model.add(Dense(25))\n",
    "model.add(Dense(1))"
   ]
  },
  {
   "cell_type": "code",
   "execution_count": 31,
   "id": "aaaad0d3",
   "metadata": {},
   "outputs": [],
   "source": [
    "# Compile the model\n",
    "model.compile(optimizer='adam', loss='mse')"
   ]
  },
  {
   "cell_type": "code",
   "execution_count": 32,
   "id": "cc55eac7",
   "metadata": {},
   "outputs": [
    {
     "name": "stdout",
     "output_type": "stream",
     "text": [
      "1955/1955 [==============================] - 36s 16ms/step - loss: 8.2900e-04\n"
     ]
    },
    {
     "data": {
      "text/plain": [
       "<keras.callbacks.History at 0x29447906a90>"
      ]
     },
     "execution_count": 32,
     "metadata": {},
     "output_type": "execute_result"
    }
   ],
   "source": [
    "# Train the model -- treat batch_size & epochs as the model parameters\n",
    "model.fit(x_train, y_train, batch_size=1, epochs=1)"
   ]
  },
  {
   "cell_type": "code",
   "execution_count": 35,
   "id": "4d50e117",
   "metadata": {},
   "outputs": [],
   "source": [
    "# Create the testing data set\n",
    "# Create a new array containing scaled values from index (training set length) to index (end of dataset)\n",
    "test_data = scaled_data[training_data_len - window: , :]\n",
    "# Create the data sets x_test and y_test\n",
    "x_test = []\n",
    "y_test = dataset.values[training_data_len: , :]\n",
    "for i in range(window, len(test_data)):\n",
    "    x_test.append(test_data[i-window:i, 0])"
   ]
  },
  {
   "cell_type": "code",
   "execution_count": 36,
   "id": "8bee3905",
   "metadata": {},
   "outputs": [],
   "source": [
    "# Convert the data into a numpy array\n",
    "x_test = np.array(x_test)"
   ]
  },
  {
   "cell_type": "code",
   "execution_count": 39,
   "id": "c2c5476a",
   "metadata": {},
   "outputs": [],
   "source": [
    "# Reshape the data from 2D to 3D for LSTM compatiblity \n",
    "x_test = np.reshape(x_test, (x_test.shape[0], x_test.shape[1], 1)) # '1' at the end is the number of features"
   ]
  },
  {
   "cell_type": "code",
   "execution_count": 40,
   "id": "9c7828eb",
   "metadata": {},
   "outputs": [
    {
     "name": "stdout",
     "output_type": "stream",
     "text": [
      "16/16 [==============================] - 4s 9ms/step\n"
     ]
    }
   ],
   "source": [
    "# Get the models predicted price values\n",
    "predictions = model.predict(x_test)\n",
    "predictions = scaler.inverse_transform(predictions)"
   ]
  },
  {
   "cell_type": "code",
   "execution_count": 41,
   "id": "3098ccea",
   "metadata": {},
   "outputs": [
    {
     "data": {
      "text/plain": [
       "5.310678909796464"
      ]
     },
     "execution_count": 41,
     "metadata": {},
     "output_type": "execute_result"
    }
   ],
   "source": [
    "# Evaluation - one example measure: Get the root mean squared error (RMSE)\n",
    "rmse = np.sqrt(np.mean((predictions - y_test)**2))\n",
    "#rmse2 = sklearn.metrics.mean_squared_error(predictions, y_test)\n",
    "rmse"
   ]
  },
  {
   "cell_type": "markdown",
   "id": "db7095bd",
   "metadata": {},
   "source": [
    "# Performance visualization"
   ]
  },
  {
   "cell_type": "code",
   "execution_count": 53,
   "id": "ab1012de",
   "metadata": {},
   "outputs": [
    {
     "name": "stderr",
     "output_type": "stream",
     "text": [
      "<ipython-input-53-331c66c93cf6>:4: SettingWithCopyWarning: \n",
      "A value is trying to be set on a copy of a slice from a DataFrame.\n",
      "Try using .loc[row_indexer,col_indexer] = value instead\n",
      "\n",
      "See the caveats in the documentation: https://pandas.pydata.org/pandas-docs/stable/user_guide/indexing.html#returning-a-view-versus-a-copy\n",
      "  valid['Predictations'] = predictions\n"
     ]
    },
    {
     "data": {
      "text/plain": [
       "<Figure size 2304x1152 with 0 Axes>"
      ]
     },
     "metadata": {},
     "output_type": "display_data"
    },
    {
     "data": {
      "image/png": "[encoded data removed]",
      "text/plain": [
       "<Figure size 432x288 with 1 Axes>"
      ]
     },
     "metadata": {},
     "output_type": "display_data"
    }
   ],
   "source": [
    "# Plot the data\n",
    "train = dataset[:training_data_len]\n",
    "valid = dataset[training_data_len:]\n",
    "valid['Predictations'] = predictions\n",
    "\n",
    "# # Visualize the data\n",
    "# plt.figure(figsize=(16,8))\n",
    "# plt.title('Model')\n",
    "# plt.xlabel('Date', fontsize=18)\n",
    "# plt.ylabel('Close Price USD ($)', fontsize=18)\n",
    "# plt.plot(train['Close'])\n",
    "# plt.plot(valid[['Close', 'Predictions']])\n",
    "# plt.legend(['Train', 'Val', 'Predictions'], loc='lower right')\n",
    "# plt.show()\n",
    "\n",
    "\n",
    "# Visualize the data\n",
    "plt.figure(figsize=(32,16))\n",
    "firstPlot = train.plot() \n",
    "valid.plot(ax = firstPlot)\n",
    "plt.legend(['Train', 'Val', 'Predictions'], loc='upper left')\n",
    "plt.show()"
   ]
  },
  {
   "cell_type": "code",
   "execution_count": 54,
   "id": "02ece849",
   "metadata": {},
   "outputs": [
    {
     "data": {
      "text/html": [
       "<div>\n",
       "<style scoped>\n",
       "    .dataframe tbody tr th:only-of-type {\n",
       "        vertical-align: middle;\n",
       "    }\n",
       "\n",
       "    .dataframe tbody tr th {\n",
       "        vertical-align: top;\n",
       "    }\n",
       "\n",
       "    .dataframe thead th {\n",
       "        text-align: right;\n",
       "    }\n",
       "</style>\n",
       "<table border=\"1\" class=\"dataframe\">\n",
       "  <thead>\n",
       "    <tr style=\"text-align: right;\">\n",
       "      <th></th>\n",
       "      <th>Close</th>\n",
       "      <th>Predictations</th>\n",
       "    </tr>\n",
       "    <tr>\n",
       "      <th>Date</th>\n",
       "      <th></th>\n",
       "      <th></th>\n",
       "    </tr>\n",
       "  </thead>\n",
       "  <tbody>\n",
       "    <tr>\n",
       "      <th>2021-01-04</th>\n",
       "      <td>129.410004</td>\n",
       "      <td>135.378860</td>\n",
       "    </tr>\n",
       "    <tr>\n",
       "      <th>2021-01-05</th>\n",
       "      <td>131.009995</td>\n",
       "      <td>135.251617</td>\n",
       "    </tr>\n",
       "    <tr>\n",
       "      <th>2021-01-06</th>\n",
       "      <td>126.599998</td>\n",
       "      <td>135.071686</td>\n",
       "    </tr>\n",
       "    <tr>\n",
       "      <th>2021-01-07</th>\n",
       "      <td>130.919998</td>\n",
       "      <td>134.376663</td>\n",
       "    </tr>\n",
       "    <tr>\n",
       "      <th>2021-01-08</th>\n",
       "      <td>132.050003</td>\n",
       "      <td>134.033463</td>\n",
       "    </tr>\n",
       "    <tr>\n",
       "      <th>...</th>\n",
       "      <td>...</td>\n",
       "      <td>...</td>\n",
       "    </tr>\n",
       "    <tr>\n",
       "      <th>2022-12-23</th>\n",
       "      <td>131.860001</td>\n",
       "      <td>139.259995</td>\n",
       "    </tr>\n",
       "    <tr>\n",
       "      <th>2022-12-27</th>\n",
       "      <td>130.029999</td>\n",
       "      <td>138.302399</td>\n",
       "    </tr>\n",
       "    <tr>\n",
       "      <th>2022-12-28</th>\n",
       "      <td>126.040001</td>\n",
       "      <td>137.286331</td>\n",
       "    </tr>\n",
       "    <tr>\n",
       "      <th>2022-12-29</th>\n",
       "      <td>129.610001</td>\n",
       "      <td>135.916473</td>\n",
       "    </tr>\n",
       "    <tr>\n",
       "      <th>2022-12-30</th>\n",
       "      <td>129.929993</td>\n",
       "      <td>134.957764</td>\n",
       "    </tr>\n",
       "  </tbody>\n",
       "</table>\n",
       "<p>503 rows × 2 columns</p>\n",
       "</div>"
      ],
      "text/plain": [
       "                 Close  Predictations\n",
       "Date                                 \n",
       "2021-01-04  129.410004     135.378860\n",
       "2021-01-05  131.009995     135.251617\n",
       "2021-01-06  126.599998     135.071686\n",
       "2021-01-07  130.919998     134.376663\n",
       "2021-01-08  132.050003     134.033463\n",
       "...                ...            ...\n",
       "2022-12-23  131.860001     139.259995\n",
       "2022-12-27  130.029999     138.302399\n",
       "2022-12-28  126.040001     137.286331\n",
       "2022-12-29  129.610001     135.916473\n",
       "2022-12-30  129.929993     134.957764\n",
       "\n",
       "[503 rows x 2 columns]"
      ]
     },
     "execution_count": 54,
     "metadata": {},
     "output_type": "execute_result"
    }
   ],
   "source": [
    "# Show the valid (actual) and predicted prices\n",
    "valid"
   ]
  },
  {
   "cell_type": "markdown",
   "id": "f120d781",
   "metadata": {},
   "source": [
    "# Test on next day (price prediction vs. actual)"
   ]
  },
  {
   "cell_type": "code",
   "execution_count": 59,
   "id": "555a7c0c",
   "metadata": {},
   "outputs": [
    {
     "name": "stdout",
     "output_type": "stream",
     "text": [
      "[*********************100%***********************]  1 of 1 completed\n",
      "1/1 [==============================] - 0s 20ms/step\n",
      "[[134.30367]]\n"
     ]
    }
   ],
   "source": [
    "# Create a new dataframe using the original data from data source\n",
    "new_df = yf.download(\"AAPL\", start=\"2013-01-01\", end=\"2023-01-01\")\n",
    "new_df = new_df[['Close']]\n",
    "\n",
    "# Get the last 'window' interval \n",
    "last_window = new_df[-window:]\n",
    "\n",
    "# Scale the data to be values between 0 and 1\n",
    "last_window_scaled = scaler.transform(last_window)\n",
    "\n",
    "# Create an empty list\n",
    "X_test = []\n",
    "\n",
    "# Append the past 60 days\n",
    "X_test.append(last_window_scaled)\n",
    "\n",
    "# Convert the X_test data set to a numpy array\n",
    "X_test = np.array(X_test)\n",
    "\n",
    "# Reshape the data\n",
    "X_test = np.reshape(X_test, (X_test.shape[0], X_test.shape[1], 1))\n",
    "\n",
    "# Get the predicted scaled price\n",
    "pred_price = model.predict(X_test)\n",
    "\n",
    "# Undo the scaling\n",
    "pred_price = scaler.inverse_transform(pred_price)\n",
    "print(pred_price)"
   ]
  },
  {
   "cell_type": "code",
   "execution_count": 68,
   "id": "629adad4",
   "metadata": {},
   "outputs": [
    {
     "name": "stdout",
     "output_type": "stream",
     "text": [
      "[*********************100%***********************]  1 of 1 completed\n",
      "Date\n",
      "2023-01-03    125.07\n",
      "Name: Close, dtype: float64\n"
     ]
    }
   ],
   "source": [
    "# Get the actual price\n",
    "\n",
    "apple_quote = yf.download(\"AAPL\", start=\"2023-01-03\", end=\"2023-01-04\")\n",
    "\n",
    "print(apple_quote['Close'])"
   ]
  }
 ],
 "metadata": {
  "kernelspec": {
   "display_name": "Python 3",
   "language": "python",
   "name": "python3"
  },
  "language_info": {
   "codemirror_mode": {
    "name": "ipython",
    "version": 3
   },
   "file_extension": ".py",
   "mimetype": "text/x-python",
   "name": "python",
   "nbconvert_exporter": "python",
   "pygments_lexer": "ipython3",
   "version": "3.8.8"
  }
 },
 "nbformat": 4,
 "nbformat_minor": 5
}
